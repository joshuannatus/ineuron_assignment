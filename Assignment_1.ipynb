{
 "cells": [
  {
   "cell_type": "markdown",
   "metadata": {},
   "source": [
    "1. In the below elements which of them are values or an expression? eg:- values can be integer or string and expressions will be mathematical operators.\n",
    "\n",
    "Answer:\n",
    "<ul>\n",
    "* (expression) <br/>\n",
    "hello (string) <br/> \n",
    "-87.8 (float) <br/> \n",
    "- (expression)<br/> \n",
    "/ (expression)<br/> \n",
    "+ (expression)<br/> \n",
    "6 (integer)<br/></ul>"
   ]
  },
  {
   "cell_type": "markdown",
   "metadata": {},
   "source": [
    "2. What is the difference between string and variable?\n",
    "\n",
    "Answer:\n",
    "<p> In python a string is a piece of text or anything (which can be an expression, float, integer) that is inside a single {''} or double quote {\"\"} while a variable can be an piece of information or data (which can include string, float, integer, boolean etc) holder, that is a variable is a label or kind of a placeholder that stores data (value) in memory that can be referenced to.\n",
    "\n",
    "Also String is a data type that hold characters while variable holds data types \n",
    "</p>"
   ]
  },
  {
   "cell_type": "markdown",
   "metadata": {},
   "source": [
    "3. Describe three different data types.\n",
    "\n",
    "Answer:\n",
    "Although there are more than three different data types, I will describe "
   ]
  },
  {
   "cell_type": "markdown",
   "metadata": {},
   "source": []
  }
 ],
 "metadata": {
  "language_info": {
   "name": "python"
  }
 },
 "nbformat": 4,
 "nbformat_minor": 2
}
