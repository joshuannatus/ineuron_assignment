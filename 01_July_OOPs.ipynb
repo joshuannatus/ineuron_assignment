{
 "cells": [
  {
   "cell_type": "markdown",
   "metadata": {},
   "source": [
    "1. What is the primary goal of Object-Oriented Programming (OOP)?\n",
    "\n",
    "Ans: The primary goal of OOP is wrap or for lack of better word organise data and code into an object for easier management and reuse, it also makes our codes more compact, organised and easy to follow. "
   ]
  },
  {
   "cell_type": "code",
   "execution_count": 14,
   "metadata": {},
   "outputs": [
    {
     "name": "stdout",
     "output_type": "stream",
     "text": [
      "The area of the Rectangle is 12\n",
      "The area of the Rectangle is 24\n"
     ]
    }
   ],
   "source": [
    "#for example\n",
    "\"\"\"\n",
    "    We are to create a code that can calculate area of a rectangle which 'area' = length X breath\n",
    "    I will produce the code without OOP and with OOP to show what I defined above \n",
    "\"\"\"\n",
    "#without OOP\n",
    "def calculate_area():\n",
    "    length = int(input(\"Enter Length of the Rectangle: \"))\n",
    "    breathe = int(input(\"Enter The breathe of the Rectangle: \"))\n",
    "    area = length * breathe\n",
    "    print(f\"The area of the Rectangle is {area}\")\n",
    "\n",
    "calculate_area()\n",
    " \n",
    "#with OOP\n",
    "class Rectangle:\n",
    "    def __init__(self, length, breathe):\n",
    "        self.length = length\n",
    "        self.breathe = breathe\n",
    "    \n",
    "    def area(self):\n",
    "        Rectangle_area = self.length * self.breathe\n",
    "        print(f\"The area of the Rectangle is {Rectangle_area}\")\n",
    "\n",
    "Small_rec = Rectangle(4,6)\n",
    "Small_rec.area()\n",
    "\n",
    "# the code with oop is easier to understand and can be expanded upon and called up at all times"
   ]
  },
  {
   "cell_type": "markdown",
   "metadata": {},
   "source": [
    "2. What is an object in Python?\n",
    "\n",
    "Ans: From the lecture, we can tell that everything in python is an object (i.e strings, integers, list etc), so typically object is an instance of a class. It can be said to be the fundamental element, it is a thing that can store information and do things.\n"
   ]
  },
  {
   "cell_type": "markdown",
   "metadata": {},
   "source": [
    "3. What is a class in Python?\n",
    "\n",
    "Ans: A class in python is a blueprint for creating object that can carry out different functions. "
   ]
  },
  {
   "cell_type": "code",
   "execution_count": 16,
   "metadata": {},
   "outputs": [
    {
     "data": {
      "text/plain": [
       "'Joshua'"
      ]
     },
     "execution_count": 16,
     "metadata": {},
     "output_type": "execute_result"
    }
   ],
   "source": [
    "#for example for question 2 and 3\n",
    "class Teacher:\n",
    "    def __init__(self, name, subject, rating, popularity):\n",
    "        self.subject = subject\n",
    "        self.name = name\n",
    "        self.rating = rating\n",
    "        self.popularity = popularity\n",
    "    # the above is a class, a class of teacher\n",
    "    \n",
    "teacher_1 = Teacher(\"Joshua\",\"Python Programming\", \"Five star\", \"Very Popular\")\n",
    "teacher_1.name\n",
    "\n",
    "# the teacher_1 is an object created from the class Teacher, note, we can have multiple objects of that same class \n",
    "# but with unique and different attribute (Properties)"
   ]
  },
  {
   "cell_type": "markdown",
   "metadata": {},
   "source": [
    "4. What are attributes and methods in a class?\n",
    "\n",
    "Ans: Attributes are variables that hold information or data about the class or its instances, this  instance can be the objects created from the class. \n",
    "However, methods are self made functions defined in a class during it creation that can perform actions or operations on the class's objects or it data."
   ]
  },
  {
   "cell_type": "markdown",
   "metadata": {},
   "source": [
    "5. What is the difference between class variables and instance variables in Python?\n",
    "\n",
    "Ans: Class variable are variables that is shared among all the instances of a class (all the objects of the class), this is usually defined outside any method, while instance varaible are variables that are unique to each instance of a class."
   ]
  },
  {
   "cell_type": "code",
   "execution_count": 2,
   "metadata": {},
   "outputs": [
    {
     "data": {
      "text/plain": [
       "\" From the code above every object created using this class will all have Class_Grade, primary 2, \\n    because they are all in primary 2.\\n    However, they can't have the same name, height or age hence, instance variable which will make\\n    each instance of the class, that's any object created from the class to have it own unique identity.\\n\""
      ]
     },
     "execution_count": 2,
     "metadata": {},
     "output_type": "execute_result"
    }
   ],
   "source": [
    "#example\n",
    "\n",
    "class Student:\n",
    "    Class_Grade = \"Primary 2\" #(class Variable)\n",
    "    def __init__(self, name, height, age): #(instance variable)\n",
    "        self.name = name\n",
    "        self.height = height\n",
    "        self.age = age \n",
    "\n",
    "\"\"\" From the code above every object created using this class will all have Class_Grade, primary 2, \n",
    "    because they are all in primary 2.\n",
    "    However, they can't have the same name, height or age hence, instance variable which will make\n",
    "    each instance of the class, that's any object created from the class to have it own unique identity.\n",
    "\"\"\""
   ]
  },
  {
   "cell_type": "markdown",
   "metadata": {},
   "source": [
    "6. What is the purpose of the self parameter in Python class methods?\n",
    "\n",
    "Ans: The self parameter in python class methods, is a class method that allows to reference or call the instance of the class itself, \"self\" was used as a convention it can be anything but it has to be the first parameter in instantiation of a class. This can be seen in all previous examples above"
   ]
  },
  {
   "cell_type": "markdown",
   "metadata": {},
   "source": [
    "7. For a library management system, you have to design the \"Book\" class with OOP\n",
    "principles in mind. The “Book” class will have following attributes:\n",
    "a. title: Represents the title of the book.\n",
    "b. author: Represents the author(s) of the book.\n",
    "c. isbn: Represents the ISBN (International Standard Book Number) of the book.\n",
    "d. publication_year: Represents the year of publication of the book.\n",
    "e. available_copies: Represents the number of copies available for checkout.\n",
    "The class will also include the following methods:\n",
    "a. check_out(self): Decrements the available copies by one if there are copies\n",
    "available for checkout.\n",
    "b. return_book(self): Increments the available copies by one when a book is\n",
    "returned.\n",
    "c. display_book_info(self): Displays the information about the book, including its\n",
    "attributes and the number of available copies."
   ]
  },
  {
   "cell_type": "code",
   "execution_count": 45,
   "metadata": {},
   "outputs": [
    {
     "name": "stdout",
     "output_type": "stream",
     "text": [
      "The book John has been checked out.\n",
      "The availble copies of John is 7\n",
      "The book John has been checked out.\n",
      "The availble copies of John is 6\n",
      "The book John have been returned, the available copies now is 7\n",
      "The Book titled John, has the ISBN number of 12382. \n",
      "The book was auther by Joe and has only 7 in stock\n"
     ]
    }
   ],
   "source": [
    "# answer to question 7\n",
    "\n",
    "class Book:\n",
    "    def __init__(self, title, author, isbn, publication_year, available_copies):\n",
    "        self.title = title\n",
    "        self.author = author\n",
    "        self.isbn = isbn\n",
    "        self.publication_year = publication_year\n",
    "        self.available_copies = available_copies\n",
    "        \n",
    "    def check_out(self):\n",
    "        if self.available_copies > 0:\n",
    "            self.available_copies -= 1\n",
    "            print(f\"The book {self.title} has been checked out.\")\n",
    "            print(f'The availble copies of {self.title} is {self.available_copies}')\n",
    "    \n",
    "    def return_book(self):\n",
    "        self.available_copies += 1\n",
    "        print(f\"The book {self.title} have been returned, the available copies now is {self.available_copies}\")\n",
    "        \n",
    "    def display_book_info(self):\n",
    "        print(f\"The Book titled {self.title}, has the ISBN number of {self.isbn}. \\nThe book was auther by {self.author} and has only {self.available_copies} in stock\")\n",
    "\n",
    "#sample\n",
    "Bean = Book(\"John\", \"Joe\", \"12382\", \"2004\", 8)\n",
    "Bean.check_out()\n",
    "Bean.check_out()\n",
    "Bean.return_book()\n",
    "Bean.display_book_info()"
   ]
  },
  {
   "cell_type": "markdown",
   "metadata": {},
   "source": [
    "8. For a ticket booking system, you have to design the \"Ticket\" class with OOP\n",
    "principles in mind. The “Ticket” class should have the following attributes:\n",
    "a. ticket_id: Represents the unique identifier for the ticket.\n",
    "b. event_name: Represents the name of the event.\n",
    "c. event_date: Represents the date of the event.\n",
    "d. venue: Represents the venue of the event.\n",
    "e. seat_number: Represents the seat number associated with the ticket.\n",
    "f. price: Represents the price of the ticket.\n",
    "g. is_reserved: Represents the reservation status of the ticket.\n",
    "The class also includes the following methods:\n",
    "a. reserve_ticket(self): Marks the ticket as reserved if it is not already reserved.\n",
    "b. cancel_reservation(self): Cancels the reservation of the ticket if it is already\n",
    "reserved.\n",
    "c. display_ticket_info(self): Displays the information about the ticket, including its\n",
    "attributes and reservation status."
   ]
  },
  {
   "cell_type": "code",
   "execution_count": 64,
   "metadata": {},
   "outputs": [
    {
     "name": "stdout",
     "output_type": "stream",
     "text": [
      "Hey!!!, below is the details for the event Davido Concert with the ticket id 1: \n",
      "Event Date: 22nd May 2024\n",
      "Venue: 02 Arena\n",
      "Seat Number: A10\n",
      "Price: 50\n",
      "Reservation Status: Not Reserved\n"
     ]
    }
   ],
   "source": [
    "class Ticket:\n",
    "    def __init__(self, ticket_id, event_name, event_date, venue, seat_number, price, is_reserved):\n",
    "        self.ticket_id = ticket_id\n",
    "        self.event_name = event_name\n",
    "        self.event_date = event_date\n",
    "        self.venue = venue\n",
    "        self.seat_number = seat_number\n",
    "        self.price = price\n",
    "        self.is_reserved = is_reserved\n",
    "        \n",
    "    def reserve_ticket(self):\n",
    "        if not self.is_reserved:\n",
    "            self.is_reserved = True\n",
    "            print(f'Thank you for your request, unfortunately, we have to decline because this {self.ticket_id} have been reserved')\n",
    "        else:\n",
    "            print(f'Thank you for your request, this is an excellent choice, this ticket ide {self.ticket_id} have been reserved for you')\n",
    "        \n",
    "    def cancel_reservation(self):\n",
    "        if self.is_reserved:\n",
    "            self.is_reserved = False\n",
    "            print(f\"Thank you for your request, it's sad to see you go, your reservation of {self.ticket_id} has been cancelled\")\n",
    "        else:\n",
    "            print(f'Your reservation with the ticket {self.ticket_id} is still reserved')\n",
    "                \n",
    "    def display_ticket_info(self):\n",
    "        print(f\"Hey!!!, below is the details for the event {self.event_name} with the ticket id {self.ticket_id}: \")\n",
    "        print(f\"Event Date: {self.event_date}\")\n",
    "        print(f\"Venue: {self.venue}\")\n",
    "        print(f\"Seat Number: {self.seat_number}\")\n",
    "        print(f\"Price: {self.price}\")\n",
    "        print(f\"Reservation Status: {'Reserved' if self.is_reserved else 'Not Reserved'}\")\n",
    "        \n",
    "#sample\n",
    "ticket1 = Ticket(1, \"Davido Concert\", \"22nd May 2024\", \"02 Arena\", \"A10\", 50, False)\n",
    "ticket1.is_reserved\n",
    "ticket1.display_ticket_info()"
   ]
  },
  {
   "cell_type": "markdown",
   "metadata": {},
   "source": [
    "9. You are creating a shopping cart for an e-commerce website. Using OOP to model\n",
    "the \"ShoppingCart\" functionality the class should contain following attributes and\n",
    "methods:\n",
    "a. items: Represents the list of items in the shopping cart.\n",
    "The class also includes the following methods: a. add_item(self, item): Adds an item to the shopping cart by appending it to the\n",
    "list of items.\n",
    "b. remove_item(self, item): Removes an item from the shopping cart if it exists in\n",
    "the list.\n",
    "c. view_cart(self): Displays the items currently present in the shopping cart.\n",
    "d. clear_cart(self): Clears all items from the shopping cart by reassigning an\n",
    "empty list to the items attribute."
   ]
  },
  {
   "cell_type": "code",
   "execution_count": 70,
   "metadata": {},
   "outputs": [
    {
     "name": "stdout",
     "output_type": "stream",
     "text": [
      "Rice has been added to the shopping cart.\n",
      "Bean has been added to the shopping cart.\n",
      "Garri has been added to the shopping cart.\n",
      "Items in the shopping cart:\n",
      "- Rice\n",
      "- Bean\n",
      "- Garri\n",
      "The item Rise is not in the shopping cart\n",
      "Items in the shopping cart:\n",
      "- Rice\n",
      "- Bean\n",
      "- Garri\n",
      "The shopping cart has been cleared.\n",
      "The shopping cart is empty.\n"
     ]
    }
   ],
   "source": [
    "class ShoppingCart:\n",
    "    def __init__(self):\n",
    "        self.items = []\n",
    "    \n",
    "    def add_item(self, item):\n",
    "        self.items.append(item)\n",
    "        print(f\"{item} has been added to the shopping cart.\")\n",
    "    def remove_item(self, item):\n",
    "        if item in self.items:\n",
    "            self.items.remove(item)\n",
    "            print(f\"{item} has been removed from the shopping cart.\")\n",
    "        else:\n",
    "            print(f\"The item {item} is not in the shopping cart\")\n",
    "    def view_cart(self):\n",
    "        if self.items:\n",
    "            print(\"Items in the shopping cart:\")\n",
    "            for item in self.items:\n",
    "                print(\"- \" + item)\n",
    "        else:\n",
    "            print(\"The shopping cart is empty.\")\n",
    "            \n",
    "    def clear_cart(self):\n",
    "        self.items = []\n",
    "        print(\"The shopping cart has been cleared.\")\n",
    "\n",
    "Jos = ShoppingCart()\n",
    "Jos.add_item(\"Rice\")\n",
    "Jos.add_item(\"Bean\")\n",
    "Jos.add_item(\"Garri\")\n",
    "Jos.view_cart()\n",
    "Jos.remove_item(\"Rise\")\n",
    "Jos.view_cart()\n",
    "Jos.clear_cart()\n",
    "Jos.view_cart()"
   ]
  },
  {
   "cell_type": "markdown",
   "metadata": {},
   "source": [
    "10. Imagine a school management system. You have to design the \"Student\" class using\n",
    "OOP concepts.The “Student” class has the following attributes:\n",
    "a. name: Represents the name of the student.\n",
    "b. age: Represents the age of the student.\n",
    "c. grade: Represents the grade or class of the student.\n",
    "d. student_id: Represents the unique identifier for the student.\n",
    "e. attendance: Represents the attendance record of the student.\n",
    "The class should also include the following methods:\n",
    "a. update_attendance(self, date, status): Updates the attendance record of the\n",
    "student for a given date with the provided status (e.g., present or absent).\n",
    "b. get_attendance(self): Returns the attendance record of the student.\n",
    "c. get_average_attendance(self): Calculates and returns the average\n",
    "attendance percentage of the student based on their attendance record."
   ]
  },
  {
   "cell_type": "code",
   "execution_count": 73,
   "metadata": {},
   "outputs": [
    {
     "name": "stdout",
     "output_type": "stream",
     "text": [
      "Attendance Record:\n",
      "{'2024-04-01': 'present', '2024-04-02': 'absent'}\n",
      "Average Attendance: 50.0%\n"
     ]
    }
   ],
   "source": [
    "class Student:\n",
    "    def __init__(self, name, age, grade, student_id):\n",
    "        self.name = name\n",
    "        self.age = age\n",
    "        self.grade = grade\n",
    "        self.student_id = student_id\n",
    "        self.attendance = {}\n",
    "        \n",
    "    def update_attendance(self, date, status):\n",
    "        self.attendance[date] = status\n",
    "    \n",
    "    def get_attendance(self):\n",
    "        return self.attendance\n",
    "\n",
    "    def get_average_attendance(self):\n",
    "        total_days = len(self.attendance)\n",
    "        if total_days == 0:\n",
    "        # If attendance record is empty, return 0.0 as average attendance\n",
    "            return 0.0          \n",
    "\n",
    "        present_days = sum(status == 'present' for status in self.attendance.values())\n",
    "        return (present_days / total_days) * 100\n",
    "    \n",
    "    \n",
    "#sample\n",
    "student1 = Student(\"Joshua\", 20, \"12th\", \"HB23\")\n",
    "\n",
    "student1.update_attendance(\"2024-04-01\", \"present\")\n",
    "student1.update_attendance(\"2024-04-02\", \"absent\")\n",
    "\n",
    "print(\"Attendance Record:\")\n",
    "print(student1.get_attendance())\n",
    "\n",
    "average_attendance = student1.get_average_attendance()\n",
    "print(f\"Average Attendance: {average_attendance:.1f}%\")\n"
   ]
  },
  {
   "cell_type": "code",
   "execution_count": null,
   "metadata": {},
   "outputs": [],
   "source": []
  }
 ],
 "metadata": {
  "kernelspec": {
   "display_name": "base",
   "language": "python",
   "name": "python3"
  },
  "language_info": {
   "codemirror_mode": {
    "name": "ipython",
    "version": 3
   },
   "file_extension": ".py",
   "mimetype": "text/x-python",
   "name": "python",
   "nbconvert_exporter": "python",
   "pygments_lexer": "ipython3",
   "version": "3.11.5"
  }
 },
 "nbformat": 4,
 "nbformat_minor": 2
}
