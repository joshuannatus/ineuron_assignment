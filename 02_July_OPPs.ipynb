{
 "cells": [
  {
   "cell_type": "markdown",
   "metadata": {},
   "source": [
    "1. Explain what inheritance is in object-oriented programming and why it is used.\n",
    "\n",
    "Ans: Inheritance is the act or a concept in OOP that allows a newly created class (which is mostly referred to as sub class or child class) to take on or inherit properties and methods of another class which most times is referred to as a super class or parent class. \n",
    "\n",
    "It is used in programming especially in OOP to produce resuable codes and reduce writing long and repeated blocks of code, so instead of recreating an properties that exit in a different class orignally created long ago, applying inheritance to the new class can help recreating the entire code without writing plenty lines of code. Imagine creating a \"Vehicle\" class and later on create a \"Car\" class there is a huge possiblity that some block of code in the Vehicle class might be needed in the newly created car class, applying inheritance help reduce the redundacy in rewriting the entire block code in vehicle class that relates to car class.\n",
    "\n",
    "Inheritance is also used because it affords the program the ability to take on different forms based on the context in the new class, affording flexibility and dynamic behaviour. \n"
   ]
  },
  {
   "cell_type": "markdown",
   "metadata": {},
   "source": [
    "2. Discuss the concept of single inheritance and multiple inheritance, highlighting their\n",
    "differences and advantages.\n",
    "\n",
    "Ans: "
   ]
  },
  {
   "cell_type": "markdown",
   "metadata": {},
   "source": [
    "## Single Inheritance:\n",
    "Single Inheritance is when a child class or newly created class inherits or takes on some or all the properties of one parent class or super class. This means that the child class can only take the properties of just one parent class, the inheritance is just from one parent class.\n",
    "### Advantage: \n",
    "Aside the obvious benefits discussed in question 1 as related to inheritance single inheritance allows for the following:\n",
    "* Single inheritance are simple to write and simple to understand, it simple and clear\n",
    "* Single Iheritance are easy to maintain\n",
    "* Single Inheritance as less Ambiguious, because they are clear and follow a simple heriachy \n",
    "\n",
    "## Multiple Inheritance:\n",
    "This on the other hand is when a child class or newly created class inherits from more than one parent. For example you can have a class for \"vehicles\" and then have a class for \"People\" and you created another class \"people and there varying kind of vechicle- class PeopleRide\", there is a need for the newly created PeopleRide to inherit properties and attributes from the class Vehicles and the class People.\n",
    "\n",
    "### Advantages:\n",
    "* Multiple inheritance allows for more reduction of redundant code, so there is a lot of code reuseablilty in multiple inheritance\n",
    "* It gives room from more flexibility, so you can have a child create with varying and dynamic attributes \n",
    "* It also use for modelling or display complex relationship that will require a lot of coding\n",
    "\n",
    "## Differences Between Single and Multiple Inheritance\n",
    "|Aspect | Single Inheritance | Multiple Inheritance|\n",
    "|---------------|----------------|--------------|\n",
    "|Number of parent class | Requires only one parent class | Requires more than one parent class|\n",
    "|Complexity| Simple | Complex|\n",
    "|Ambiguity| No or less ambiguity|Likely to be very ambiguous|  "
   ]
  },
  {
   "cell_type": "markdown",
   "metadata": {},
   "source": [
    "3. Explain the terms \"base class\" and \"derived class\" in the context of inheritance.\n",
    "\n",
    "Ans:\n"
   ]
  },
  {
   "cell_type": "markdown",
   "metadata": {},
   "source": [
    "|Base Class | Derived Class|\n",
    "|-------|------|\n",
    "|The Base class is the class in which another class is inheriting from | The derived class is the class inheriting from the base class|\n",
    "|The base class is usually referred to as the parent class or the super class | The derived class is usally referred to as the child class|\n",
    "|The base class serves as the foundational class upon which other class build on, they are usually used to define common functionality| The derived class on the other hand builds on the base class, making modification or adding additional functionalities|\n",
    "\n"
   ]
  },
  {
   "cell_type": "markdown",
   "metadata": {},
   "source": [
    "4. What is the significance of the \"protected\" access modifier in inheritance? How does\n",
    "it differ from \"private\" and \"public\" modifiers?\n",
    "\n",
    "Ans:"
   ]
  },
  {
   "cell_type": "markdown",
   "metadata": {},
   "source": [
    "The significancy of \"protected\" access modifier in inheritance is the control the visibility and accessibility of the class attributes and methods. For intantance we can create a class while defining it instances choose to protect a method or attribute: <br>\n",
    "`class Vehicle:` <br>\n",
    "    `def __init__(self, type):` <br>\n",
    "        `self._type=type` <br> \n",
    "\n",
    "with the single underscore '_' we've have made the class attribute type protected, this enable controlled extension and modification by derived classes while keeping them hidden from the outside world.\n",
    "\n",
    "Protect access modifier difers from private access modifiers in the following ways:\n",
    "| Protect | Private |\n",
    "|----------|----------|\n",
    "|Accessible within the same class and its derived classes | Accessible only within the class that defines it|\n",
    "| Use when you want to allow subclasses to access and modify the member, but want to restrict external access | Use when you want to encapsulate the member completely, preventing access from both external code and derived classes |\n",
    "|Uses one underscore in declearing it i.e _protected| Uses two underscores to declare it i.e __private|"
   ]
  },
  {
   "cell_type": "markdown",
   "metadata": {},
   "source": [
    "5. What is the purpose of the \"super\" keyword in inheritance? Provide an example.\n",
    "\n",
    "Ans:\n",
    "The purpose of the super keyword in inheritance is to allow a subclass to call attributes and methods and access properties of its superclasses (parent classes). \n",
    "\n",
    "Example:"
   ]
  },
  {
   "cell_type": "code",
   "execution_count": 47,
   "metadata": {},
   "outputs": [],
   "source": [
    "# parent class or super class\n",
    "class Vehicle:\n",
    "    def __init__(self, type, year, model):\n",
    "        self.type = type\n",
    "        self.year = year\n",
    "        self.model = model\n",
    "    \n",
    "    def Start(self):\n",
    "        return f\"The {self.type} Vehicle Type is of the {self.model} model and was made in the year {self.year}\"\n",
    "    \n",
    "# child class or sub class\n",
    "\n",
    "class Car(Vehicle):\n",
    "    def __init__(self, type, year, model, horsepower, speed):\n",
    "        super().__init__(type, year, model)\n",
    "        self.horsepower = horsepower\n",
    "        self.speed = speed\n",
    "        \n",
    "    def drive(self):\n",
    "        car_start = super().Start()\n",
    "        return f\"{car_start} has a horsepower of {self.horsepower} and speed of {car.speed}\"\n",
    "    \n",
    "    "
   ]
  },
  {
   "cell_type": "code",
   "execution_count": 48,
   "metadata": {},
   "outputs": [
    {
     "name": "stdout",
     "output_type": "stream",
     "text": [
      "The Sedan Vehicle Type is of the Toyota Camry model and was made in the year 2020 has a horsepower of 200 and speed of 120\n"
     ]
    }
   ],
   "source": [
    "# Trying out the code\n",
    "car = Car(\"Sedan\", 2020, \"Toyota Camry\", 200, 120)\n",
    "print(car.drive())"
   ]
  },
  {
   "cell_type": "markdown",
   "metadata": {},
   "source": [
    "6. Create a base class called \"Vehicle\" with attributes like \"make\", \"model\", and \"year\". Then, create a derived class called \"Car\" that inherits from \"Vehicle\" and adds an attribute called \"fuel_type\". Implement appropriate methods in both classes."
   ]
  },
  {
   "cell_type": "code",
   "execution_count": 49,
   "metadata": {},
   "outputs": [],
   "source": [
    "# base class\n",
    "\n",
    "class Vehicle:\n",
    "    def __init__(self, make, model, year):\n",
    "        self.make = make\n",
    "        self.model = model\n",
    "        self.year = year\n",
    "        \n",
    "    def start(self):\n",
    "        return f\"The Vehicle made in {self.year}  of {self.make} make with the model {self.model} is starting.\"\n",
    "\n",
    "    def stop(self):\n",
    "        return f\"The Vehicle made in {self.year} of {self.make} make with the model number {self.model} is stopping.\"\n",
    "\n",
    "# derived class\n",
    "class Car(Vehicle):\n",
    "    def __init__(self, make, model, year, fuel_type):\n",
    "        super().__init__(make, model, year)\n",
    "        self.fuel_type = fuel_type\n",
    "        \n",
    "    def refuel(self):\n",
    "        return f\"The car is refueling, the year of make is {self.year} and it's of {self.make} make with a model number of {self.model} with {self.fuel_type}.\"\n",
    "        \n",
    "\n"
   ]
  },
  {
   "cell_type": "code",
   "execution_count": 50,
   "metadata": {},
   "outputs": [
    {
     "name": "stdout",
     "output_type": "stream",
     "text": [
      "The Vehicle made in 2021  of Toyota make with the model Camry is starting.\n",
      "The Vehicle made in 2021 of Toyota make with the model number Camry is stopping.\n",
      "The Vehicle made in 2020  of Honda make with the model Civic is starting.\n",
      "The car is refueling, the year of make is 2020 and it's of Honda make with a model number of Civic with gasoline.\n",
      "The Vehicle made in 2020 of Honda make with the model number Civic is stopping.\n"
     ]
    }
   ],
   "source": [
    "# Test the above code \n",
    "\n",
    "vehicle = Vehicle(\"Toyota\", \"Camry\", 2021)\n",
    "print(vehicle.start())\n",
    "print(vehicle.stop())\n",
    "\n",
    "car = Car(\"Honda\", \"Civic\", 2020, \"gasoline\")\n",
    "print(car.start())\n",
    "print(car.refuel())\n",
    "print(car.stop())"
   ]
  },
  {
   "cell_type": "markdown",
   "metadata": {},
   "source": [
    "7. Create a base class called \"Employee\" with attributes like \"name\" and \"salary.\" Derive two classes, \"Manager\" and \"Developer,\" from \"Employee.\" Add an additional attribute called \"department\" for the \"Manager\" class and \"programming_language\" for the \"Developer\" class.\n"
   ]
  },
  {
   "cell_type": "code",
   "execution_count": 51,
   "metadata": {},
   "outputs": [],
   "source": [
    "# Parent class\n",
    "class Employee:\n",
    "    def __init__(self, name, salary):\n",
    "        self.name = name\n",
    "        self.salary = salary\n",
    "        \n",
    "    def get_details(self):\n",
    "        return f\"The Employee's Name is {self.name} and earn {self.salary} Salary\"\n",
    "\n",
    "# Derive class \"Manager\"\n",
    "class Manager(Employee):\n",
    "    def __init__(self, name, salary, department):\n",
    "        super().__init__(name, salary)\n",
    "        self.department = department\n",
    "        \n",
    "    def get_details(self):\n",
    "        base_details = super().get_details()\n",
    "        return f\"{base_details}, {self.name} is in {self.department} Department\"\n",
    "    \n",
    "    \n",
    "# Derive class \"Developer\"\n",
    "class Developer(Employee):\n",
    "    def __init__(self, name, salary, programming_language):\n",
    "        super().__init__(name, salary)\n",
    "        self.programming_language = programming_language\n",
    "        \n",
    "    def get_details(self):\n",
    "        base_details = super().get_details()\n",
    "        return f\"{base_details}, {self.name} love {self.programming_language} Programming Language\"        "
   ]
  },
  {
   "cell_type": "code",
   "execution_count": 52,
   "metadata": {},
   "outputs": [
    {
     "name": "stdout",
     "output_type": "stream",
     "text": [
      "The Employee's Name is Joshua Nnatus and earn 50000 Salary\n",
      "The Employee's Name is Kobe Mainoo and earn 75000 Salary, Kobe Mainoo is in Sales Department\n",
      "The Employee's Name is Nnatus Sano and earn 65000 Salary, Nnatus Sano love Python Programming Language\n"
     ]
    }
   ],
   "source": [
    "# Test the code\n",
    "\n",
    "employee1 = Employee(\"Joshua Nnatus\", 50000)\n",
    "print(employee.get_details())  \n",
    "\n",
    "manager1 = Manager(\"Kobe Mainoo\", 75000, \"Sales\")\n",
    "print(manager.get_details())\n",
    "\n",
    "developer1 = Developer(\"Nnatus Sano\", 65000, \"Python\")\n",
    "print(developer.get_details())"
   ]
  },
  {
   "cell_type": "markdown",
   "metadata": {},
   "source": [
    "8. Design a base class called \"Shape\" with attributes like \"colour\" and \"border_width.\" Create derived classes, \"Rectangle\" and \"Circle,\" that inherit from \"Shape\" and add specific attributes like \"length\" and \"width\" for the \"Rectangle\" class and \"radius\" for\n",
    "the \"Circle\" class.\n"
   ]
  },
  {
   "cell_type": "code",
   "execution_count": 53,
   "metadata": {},
   "outputs": [],
   "source": [
    "#base class\n",
    "\n",
    "class Shape:\n",
    "    def __init__(self, colour, border_width):\n",
    "        self.colour = colour\n",
    "        self.border_width = border_width\n",
    "        \n",
    "    def getInfo(self):\n",
    "        return f\"The Shape colour is {self.colour} and it has a border width of {self.border_width}\"\n",
    "    \n",
    "# derived class 1\n",
    "class Rectangle(Shape):\n",
    "    def __init__(self, colour, border_width, length, width):\n",
    "        super().__init__(colour, border_width)\n",
    "        self.length = length\n",
    "        self.width = width\n",
    "        \n",
    "    def getInfo(self):\n",
    "        base_info = super().getInfo()\n",
    "        return f\"{base_info} and the shape is a rectangle with a length and  {self.length} and a width of {self.width}\"\n",
    "    \n",
    "\n",
    "# derived class 2 \n",
    "class Circle(Shape):\n",
    "    def __init__(self, colour, border_width, radius):\n",
    "        super().__init__(colour, border_width)\n",
    "        self.radius = radius\n",
    "        \n",
    "    def getInfo(self):\n",
    "        base_info= super().getInfo()\n",
    "        return f\"{base_info}, this shape is a Circle with a radius of {self.radius}\""
   ]
  },
  {
   "cell_type": "code",
   "execution_count": 54,
   "metadata": {},
   "outputs": [
    {
     "name": "stdout",
     "output_type": "stream",
     "text": [
      "The Shape colour is blue and it has a border width of 2 and the shape is a rectangle with a length and  5 and a width of 3\n",
      "The Shape colour is red and it has a border width of 1, this shape is a Circle with a radius of 4\n"
     ]
    }
   ],
   "source": [
    "# Test the code\n",
    "\n",
    "rectangle1 = Rectangle(\"green\", 3, 7, 2)\n",
    "print(rectangle.getInfo()) \n",
    "\n",
    "circle1 = Circle(\"Yellow\", 2, 8)\n",
    "print(circle.getInfo())  "
   ]
  },
  {
   "cell_type": "markdown",
   "metadata": {},
   "source": [
    "9. Create a base class called \"Device\" with attributes like \"brand\" and \"model.\" Derive two classes, \"Phone\" and \"Tablet,\" from \"Device.\" Add specific attributes like \"screen_size\" for the \"Phone\" class and \"battery_capacity\" for the \"Tablet\" class."
   ]
  },
  {
   "cell_type": "code",
   "execution_count": 55,
   "metadata": {},
   "outputs": [],
   "source": [
    "# base class\n",
    "class Device:\n",
    "    def __init__(self, brand, model):\n",
    "        self.brand = brand\n",
    "        self.model = model\n",
    "    \n",
    "    def getInfo(self):\n",
    "        return f\"The brand of this device is {self.brand} and it model is {self.model}\"\n",
    "    \n",
    "\n",
    "# derived class 1\n",
    "class Phone(Device):\n",
    "    def __init__(self, brand, model, screen_size):\n",
    "        super().__init__(brand, model)\n",
    "        self.screen_size = screen_size\n",
    "        \n",
    "    def getInfo(self):\n",
    "        base_info = super().getInfo()\n",
    "        return f\"{base_info}, this device is a phone and has a screen size of {self.screen_size}\"\n",
    "    \n",
    "# derived class 2\n",
    "class Tablet(Device):\n",
    "    def __init__(self, brand, model, battary_capacity):\n",
    "        super().__init__(brand, model)\n",
    "        self.battary_capacity = battary_capacity\n",
    "        \n",
    "    def getInfo(self):\n",
    "         base_info = super().getInfo()\n",
    "         return f\"{base_info}, this device is a Tablet and it has a battary capacity of {self.battary_capacity}\""
   ]
  },
  {
   "cell_type": "code",
   "execution_count": 56,
   "metadata": {},
   "outputs": [
    {
     "name": "stdout",
     "output_type": "stream",
     "text": [
      "The brand of this device is Apple and it model is iPhone 18, this device is a phone and has a screen size of 6.1 inches\n",
      "The brand of this device is Samsung and it model is Galaxy S24, this device is a Tablet and it has a battary capacity of 8000 mAh\n"
     ]
    }
   ],
   "source": [
    "phone = Phone(\"Apple\", \"iPhone 18\", \"6.1 inches\")\n",
    "print(phone.getInfo())\n",
    "\n",
    "tablet = Tablet(\"Samsung\", \"Galaxy S24\", \"8000 mAh\")\n",
    "print(tablet.getInfo())"
   ]
  },
  {
   "cell_type": "code",
   "execution_count": null,
   "metadata": {},
   "outputs": [],
   "source": []
  },
  {
   "cell_type": "markdown",
   "metadata": {},
   "source": [
    "10.  Create a base class called \"BankAccount\" with attributes like \"account_number\" and \"balance.\" Derive two classes, \"SavingsAccount\" and \"CheckingAccount,\" from \"BankAccount.\" Add specific methods like \"calculate_interest\" for the \"SavingsAccount\" class and \"deduct_fees\" for the \"CheckingAccount\" class."
   ]
  },
  {
   "cell_type": "code",
   "execution_count": 57,
   "metadata": {},
   "outputs": [],
   "source": [
    "# base class\n",
    "class BankAccount:\n",
    "    def __init__(self, account_number, balance):\n",
    "        self.account_number = account_number\n",
    "        self.balance = balance\n",
    "        \n",
    "    def details(self):\n",
    "        return f\"Your account number is {self.account_number} and your balance is {self.balance}\"\n",
    "    \n",
    "# Derived class 1\n",
    "class SavingsAccount(BankAccount):\n",
    "    def __init__(self, account_number, balance):\n",
    "        super().__init__(account_number, balance)\n",
    "        \n",
    "        \n",
    "    def calculate_interest(self, interest_rate):\n",
    "        interest_amount = self.balance * (interest_rate / 100)\n",
    "        self.balance += interest_amount\n",
    "        return f\"Interest calculated. New balance: {self.balance}\"\n",
    "    \n",
    "# derived class 2\n",
    "class CheckingAccount(BankAccount):\n",
    "    def __init__(self, account_number, balance):\n",
    "        super().__init__(account_number, balance)\n",
    "    \n",
    "    def deduct_fees(self, fee_amount):\n",
    "        if self.balance >= fee_amount:\n",
    "            self.balance -= fee_amount\n",
    "            return f\"Fees deducted. New balance: {self.balance}\"\n",
    "        else:\n",
    "            return \"Insufficient balance to deduct fees\""
   ]
  },
  {
   "cell_type": "code",
   "execution_count": 58,
   "metadata": {},
   "outputs": [
    {
     "name": "stdout",
     "output_type": "stream",
     "text": [
      "Your account number is 123456789 and your balance is 1000\n",
      "Interest calculated. New balance: 1050.0\n",
      "Your account number is 987654321 and your balance is 2000\n",
      "Fees deducted. New balance: 1950\n"
     ]
    }
   ],
   "source": [
    "# Test the code\n",
    "savings_account = SavingsAccount(\"123456789\", 1000)\n",
    "print(savings_account.details()) \n",
    "print(savings_account.calculate_interest(5))\n",
    "\n",
    "checking_account = CheckingAccount(\"987654321\", 2000)\n",
    "print(checking_account.details())  \n",
    "print(checking_account.deduct_fees(50)) "
   ]
  },
  {
   "cell_type": "markdown",
   "metadata": {},
   "source": []
  }
 ],
 "metadata": {
  "kernelspec": {
   "display_name": "base",
   "language": "python",
   "name": "python3"
  },
  "language_info": {
   "codemirror_mode": {
    "name": "ipython",
    "version": 3
   },
   "file_extension": ".py",
   "mimetype": "text/x-python",
   "name": "python",
   "nbconvert_exporter": "python",
   "pygments_lexer": "ipython3",
   "version": "3.11.5"
  }
 },
 "nbformat": 4,
 "nbformat_minor": 2
}
